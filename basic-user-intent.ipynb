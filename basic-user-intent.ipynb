{
 "cells": [
  {
   "cell_type": "markdown",
   "id": "afb5dddf",
   "metadata": {},
   "source": [
    "This is one of the Objectiv [example notebooks](https://objectiv.io/docs/modeling/example-notebooks/). These notebooks can also run [on your own data](https://objectiv.io/docs/modeling/get-started-in-your-notebook/) (see [how to set up tracking](https://objectiv.io/docs/tracking/))."
   ]
  },
  {
   "cell_type": "markdown",
   "id": "990f0ae2-48cd-4220-8960-844af284fcce",
   "metadata": {},
   "source": [
    "# Basic user intent analysis"
   ]
  },
  {
   "cell_type": "markdown",
   "id": "fc19e049-754f-4c0e-8a5a-0ff89bdb7724",
   "metadata": {},
   "source": [
    "This example notebook shows how you can easily do basic user intent analysis on your data."
   ]
  },
  {
   "cell_type": "markdown",
   "id": "277e303e",
   "metadata": {},
   "source": [
    "## Get started\n",
    "We first have to instantiate the model hub and an Objectiv DataFrame object."
   ]
  },
  {
   "cell_type": "code",
   "execution_count": null,
   "id": "4bd369f6",
   "metadata": {},
   "outputs": [],
   "source": [
    "# set the timeframe of the analysis\n",
    "start_date = '2022-03-01'\n",
    "end_date = '2022-05-01'"
   ]
  },
  {
   "cell_type": "code",
   "execution_count": null,
   "id": "da4ec1a0",
   "metadata": {},
   "outputs": [],
   "source": [
    "from modelhub import ModelHub, display_sql_as_markdown\n",
    "import bach\n",
    "import pandas as pd\n",
    "from datetime import timedelta\n",
    "\n",
    "# instantiate the model hub and set the default time aggregation to daily\n",
    "# and set the global contexts that will be used in this example\n",
    "modelhub = ModelHub(time_aggregation='%Y-%m-%d', global_contexts=['application'])\n",
    "# get a Bach DataFrame with Objectiv data within a defined timeframe\n",
    "df = modelhub.get_objectiv_dataframe(start_date=start_date, end_date=end_date)"
   ]
  },
  {
   "cell_type": "markdown",
   "id": "a1b3f9b1",
   "metadata": {},
   "source": [
    "The `location_stack` column, and the columns taken from the global contexts, contain most of the event-specific data. These columns are JSON typed, and we can extract data from it using the keys of the JSON objects with [`SeriesLocationStack`](https://objectiv.io/docs/modeling/open-model-hub/api-reference/SeriesLocationStack/SeriesLocationStack/) methods, or the `context` accessor for global context columns. See the [open taxonomy example](open-taxonomy-how-to.ipynb#Location-stack-&-global-contexts) for how to use the `location_stack` and global contexts. "
   ]
  },
  {
   "cell_type": "code",
   "execution_count": null,
   "id": "4e130b67",
   "metadata": {},
   "outputs": [],
   "source": [
    "# adding specific contexts to the data as columns\n",
    "df['application_id'] = df.application.context.id\n",
    "df['root_location'] = df.location_stack.ls.get_from_context_with_type_series(type='RootLocationContext', key='id')"
   ]
  },
  {
   "cell_type": "markdown",
   "id": "39623b3c",
   "metadata": {},
   "source": [
    "### Reference\n",
    "* [modelhub.ModelHub](https://objectiv.io/docs/modeling/open-model-hub/api-reference/ModelHub/ModelHub/)\n",
    "* [modelhub.ModelHub.get_objectiv_dataframe](https://objectiv.io/docs/modeling/open-model-hub/api-reference/ModelHub/get_objectiv_dataframe/)\n",
    "* [using global context data](open-taxonomy-how-to.ipynb#Location-stack-&-global-contexts)\n",
    "* [modelhub.SeriesLocationStack.ls](https://objectiv.io/docs/modeling/open-model-hub/api-reference/SeriesLocationStack/ls/)"
   ]
  },
  {
   "cell_type": "markdown",
   "id": "03bfa810",
   "metadata": {},
   "source": [
    "## Explore where users spend time\n",
    "The `root_location` context in the location stack represents the top-level UI location of the user. As a first step of grasping user intent, this is a good starting point to see in what main areas of your product users are spending time."
   ]
  },
  {
   "cell_type": "code",
   "execution_count": null,
   "id": "08ad4e39",
   "metadata": {},
   "outputs": [],
   "source": [
    "# see the number of unique users per application and root_location\n",
    "users_root = modelhub.aggregate.unique_users(df, groupby=['application_id', 'root_location'])\n",
    "users_root.sort_index().head(10)"
   ]
  },
  {
   "cell_type": "markdown",
   "id": "0bd73ca7-5e52-4484-b88d-a7a41d63adcb",
   "metadata": {},
   "source": [
    "Another good pointer to explore for user intent is how much time users spend in each `root_location`."
   ]
  },
  {
   "cell_type": "code",
   "execution_count": null,
   "id": "ec9657db-fb10-4e96-9eb0-9cb16437cade",
   "metadata": {},
   "outputs": [],
   "source": [
    "# see duration per application and root location\n",
    "duration_root = modelhub.aggregate.session_duration(df, groupby=['application_id', 'root_location']).sort_index()\n",
    "duration_root.head(10)"
   ]
  },
  {
   "cell_type": "markdown",
   "id": "6fe1a096-9221-4f9f-99b6-79747c136d66",
   "metadata": {
    "tags": []
   },
   "source": [
    "Finally, let's look at the distribution of time spent. We'll use this distribution to define the different stages of user intent."
   ]
  },
  {
   "cell_type": "code",
   "execution_count": null,
   "id": "1de87738",
   "metadata": {},
   "outputs": [],
   "source": [
    "# see how the overall time spent is distributed\n",
    "session_duration = modelhub.aggregate.session_duration(df, groupby='session_id')\n",
    "# materialization is needed because the expression of the created Series contains aggregated data, \n",
    "# and it is not allowed to aggregate that.\n",
    "session_duration = session_duration.materialize()\n",
    "# show quantiles\n",
    "session_duration.quantile(q=[0.1, 0.2, 0.3, 0.4, 0.5, 0.6, 0.7, 0.8, 0.9]).head(10)"
   ]
  },
  {
   "cell_type": "markdown",
   "id": "3d6beb81",
   "metadata": {},
   "source": [
    "### Reference\n",
    "* [modelhub.Aggregate.unique_users](https://objectiv.io/docs/modeling/open-model-hub/models/aggregation/unique_users/)\n",
    "* [bach.DataFrame.sort_index](https://objectiv.io/docs/modeling/bach/api-reference/DataFrame/sort_index/)\n",
    "* [bach.DataFrame.head](https://objectiv.io/docs/modeling/bach/api-reference/DataFrame/head/)\n",
    "* [modelhub.Aggregate.session_duration](https://objectiv.io/docs/modeling/open-model-hub/models/aggregation/session_duration/)\n",
    "* [bach.DataFrame.materialize](https://objectiv.io/docs/modeling/bach/api-reference/DataFrame/materialize/)\n",
    "* [bach.DataFrame.quantile](https://objectiv.io/docs/modeling/bach/api-reference/DataFrame/quantile/)"
   ]
  },
  {
   "cell_type": "markdown",
   "id": "aaa5a8f8-a7d4-4d50-b096-6af94421d802",
   "metadata": {},
   "source": [
    "## Define the stages of user intent\n",
    "Now that we've explored the `root_location` and session duration (both per `root_location` and overall quantiles) where users spend their time, we can make a simple definition of the different stages of their intent.\n",
    "\n",
    "Based on this dataset (objectiv.io website data) we think that:\n",
    "\n",
    "- Users that spent most time on the site (the 90th percentile), and specifically in our documentation sections, are in the Implement phase.\n",
    "- As there's a jump beyond the one minute mark at the 70th percentile, we assume that users in the 70th to 90th percentile duration in our documentation sections are in the Explore phase.\n",
    "- The remaining users are Informing themselves about the product. Those users are spending less than 1:30 in the docs and/or spend any amount of time on our main website.\n",
    "\n",
    "Summarizing:\n",
    "\n",
    "| User intent | Root locations | Duration |\n",
    "| :--- | :--- | :--- |\n",
    "| 1 - Inform | *all sections other than the ones mentioned below* | *any time spent* |\n",
    "| 1 - Inform | Docs: modeling, taxonomy, tracking, home | less than 1:30 |\n",
    "| 2 - Explore | Docs: modeling, taxonomy, tracking, home | between 1:30 and 11:30 |\n",
    "| 3 - Implement | Docs: modeling, taxonomy, tracking, home | more than 11:30 | \n",
    "\n",
    "This is just for illustration purposes, you can adjust these definitions based on your own collected data. "
   ]
  },
  {
   "cell_type": "markdown",
   "id": "9fcd02ca-a9d4-4abe-96c9-c91ff167eb5d",
   "metadata": {},
   "source": [
    "## Assign user intent\n",
    "Using our intent definitions above, we can now assign a stage of intent to each user."
   ]
  },
  {
   "cell_type": "code",
   "execution_count": null,
   "id": "dc42e571",
   "metadata": {},
   "outputs": [],
   "source": [
    "# select the root_locations to use for each of the intent stages\n",
    "roots = bach.DataFrame.from_pandas(\n",
    "    engine=df.engine, \n",
    "    df=pd.DataFrame({'roots': ['modeling', 'taxonomy', 'tracking', 'home', 'docs']})\n",
    ").roots"
   ]
  },
  {
   "cell_type": "code",
   "execution_count": null,
   "id": "7fed9432",
   "metadata": {},
   "outputs": [],
   "source": [
    "# calculate the total time spent per user\n",
    "user_intent_buckets = modelhub.agg.session_duration(df, \n",
    "                                                    groupby=['user_id'], \n",
    "                                                    method='sum',\n",
    "                                                    exclude_bounces=False).to_frame()"
   ]
  },
  {
   "cell_type": "code",
   "execution_count": null,
   "id": "1a50c279",
   "metadata": {},
   "outputs": [],
   "source": [
    "# same as above, but for selected root_locations only\n",
    "selector = (df.root_location.isin(roots)) & (df.application_id=='objectiv-docs')\n",
    "explore_inform_users_session_duration = modelhub.agg.session_duration(df[selector], groupby='user_id', method='sum')\n",
    "# and set it as column\n",
    "user_intent_buckets['explore_inform_duration'] = explore_inform_users_session_duration"
   ]
  },
  {
   "cell_type": "code",
   "execution_count": null,
   "id": "b00895a2",
   "metadata": {},
   "outputs": [],
   "source": [
    "# set the Inform bucket as a catch-all, meaning users that do not fall into Explore and Implement will be defined as Inform\n",
    "user_intent_buckets['bucket'] = '1 - inform'"
   ]
  },
  {
   "cell_type": "code",
   "execution_count": null,
   "id": "bb0d48e3",
   "metadata": {},
   "outputs": [],
   "source": [
    "# calculate buckets duration\n",
    "user_intent_buckets.loc[(user_intent_buckets.explore_inform_duration >= timedelta(0, 90)) &\n",
    "                        (user_intent_buckets.explore_inform_duration <= timedelta(0, 690)), 'bucket'] = '2 - explore'\n",
    "\n",
    "user_intent_buckets.loc[user_intent_buckets.explore_inform_duration > timedelta(0, 690), 'bucket'] = '3 - implement'"
   ]
  },
  {
   "cell_type": "markdown",
   "id": "5c6fef59",
   "metadata": {},
   "source": [
    "### Reference\n",
    "* [bach.DataFrame.from_pandas](https://objectiv.io/docs/modeling/bach/api-reference/DataFrame/from_pandas/)\n",
    "* [modelhub.Aggregate.session_duration](https://objectiv.io/docs/modeling/open-model-hub/models/aggregation/session_duration/)\n",
    "* [bach.Series.isin](https://objectiv.io/docs/modeling/bach/api-reference/Series/isin/)\n",
    "* [bach.DataFrame.loc](https://objectiv.io/docs/modeling/bach/api-reference/DataFrame/loc/)"
   ]
  },
  {
   "cell_type": "markdown",
   "id": "8cc115f1",
   "metadata": {},
   "source": [
    "## Work with the user intent results"
   ]
  },
  {
   "cell_type": "markdown",
   "id": "47be4fdb-0995-4b27-bcfd-ed609eb0ca30",
   "metadata": {},
   "source": [
    "Now that we have assigned intent to each user, we can run any analysis on it. For example, we can look at the total number of users per intent bucket."
   ]
  },
  {
   "cell_type": "code",
   "execution_count": null,
   "id": "d3537636",
   "metadata": {},
   "outputs": [],
   "source": [
    "# see the total number of users per intent bucket\n",
    "user_intent_buckets.reset_index().groupby('bucket').agg({'user_id': 'nunique'}).sort_index().head()"
   ]
  },
  {
   "cell_type": "markdown",
   "id": "a3c12031-e59c-4ddf-ad4e-b1239172e08e",
   "metadata": {},
   "source": [
    "Other examples of analyses you could run:\n",
    "\n",
    "- Which product features do each of the intent groups use? \n",
    "- With what kind of intent do users come from different marketing campaigns? \n",
    "- How can we drive more users to the 'Implement' phase? For instance, look at different product features that users with the 'Implement' intent use, compared to 'Explore'.\n",
    "\n",
    "A good starting point for these analyses on top of the user intent buckets is the basic product analytics example in the [example notebooks](https://objectiv.io/docs/modeling/example-notebooks/)."
   ]
  },
  {
   "cell_type": "markdown",
   "id": "9e952b13",
   "metadata": {},
   "source": [
    "### Reference\n",
    "* [bach.DataFrame.groupby](https://objectiv.io/docs/modeling/bach/api-reference/DataFrame/groupby/)\n",
    "* [bach.DataFrame.agg](https://objectiv.io/docs/modeling/bach/api-reference/DataFrame/agg/)\n",
    "* [bach.DataFrame.sort_index](https://objectiv.io/docs/modeling/bach/api-reference/DataFrame/sort_index/)\n",
    "* [bach.DataFrame.head](https://objectiv.io/docs/modeling/bach/api-reference/DataFrame/head/)"
   ]
  },
  {
   "cell_type": "markdown",
   "id": "104eb315-83b7-4848-ab44-49c0f9478a66",
   "metadata": {
    "tags": []
   },
   "source": [
    "## Get the SQL for any analysis\n",
    "The SQL for any analysis can be exported with one command, so you can use models in production directly to simplify data debugging & delivery to BI tools like Metabase, dbt, etc. See how you can [quickly create BI dashboards with this](https://objectiv.io/docs/home/up#creating-bi-dashboards)."
   ]
  },
  {
   "cell_type": "code",
   "execution_count": null,
   "id": "e38addad-ba20-4a71-9cac-68f2dd077a25",
   "metadata": {},
   "outputs": [],
   "source": [
    "# show SQL for analysis; this is just one example, and works for any Objectiv model/analysis\n",
    "display_sql_as_markdown(user_intent_buckets)"
   ]
  },
  {
   "cell_type": "markdown",
   "id": "3791f6a8",
   "metadata": {},
   "source": [
    "That’s it! [Join us on Slack](https://objectiv.io/join-slack) if you have any questions or suggestions."
   ]
  },
  {
   "cell_type": "markdown",
   "id": "bba981ac",
   "metadata": {},
   "source": [
    "# Next Steps\n",
    "\n",
    "\n",
    "## Use this notebook with your own data\n",
    "You can use the example notebooks on any dataset that was collected with Objectiv's tracker, so feel free to \n",
    "use them to bootstrap your own projects. They are available as Jupyter notebooks on our [GitHub repository](https://github.com/objectiv/objectiv-analytics/tree/main/notebooks). See [instructions to set up the Objectiv tracker](https://objectiv.io/docs/tracking/).\n",
    "\n",
    "\n",
    "## Check out related example notebooks\n",
    "- [Product Analytics](./product-analytics.ipynb) - easily run basic product analytics on your data.\n",
    "- [Funnel Discovery](./funnel-discovery.ipynb) - discover all the (top) user journeys that lead to conversion or drop-off, and run subsequent analyses on them."
   ]
  }
 ],
 "metadata": {
  "kernelspec": {
   "display_name": "Python 3 (ipykernel)",
   "language": "python",
   "name": "python3"
  },
  "language_info": {
   "codemirror_mode": {
    "name": "ipython",
    "version": 3
   },
   "file_extension": ".py",
   "mimetype": "text/x-python",
   "name": "python",
   "nbconvert_exporter": "python",
   "pygments_lexer": "ipython3",
   "version": "3.8.10"
  }
 },
 "nbformat": 4,
 "nbformat_minor": 5
}
