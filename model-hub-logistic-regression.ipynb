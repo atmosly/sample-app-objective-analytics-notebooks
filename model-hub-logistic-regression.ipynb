{
 "cells": [
  {
   "cell_type": "markdown",
   "id": "6166232a",
   "metadata": {},
   "source": [
    "This is one of the Objectiv [example notebooks](https://objectiv.io/docs/modeling/example-notebooks/). These notebooks can also run [on your own data](https://objectiv.io/docs/modeling/get-started-in-your-notebook/) (see [how to set up tracking](https://objectiv.io/docs/tracking/))."
   ]
  },
  {
   "cell_type": "markdown",
   "id": "3abc9081",
   "metadata": {},
   "source": [
    "# Logistic Regression\n",
    "Data collected with Objectiv is [strictly structured & designed for modeling](https://objectiv.io/docs/taxonomy), making it ideal for various machine learning models, which can be applied directly without cleaning, transformations, or complex tooling.\n",
    "\n",
    "This example notebook shows how you can predict user behavior with the [Logistic Regression model in the open model hub](https://objectiv.io/docs/modeling/open-model-hub/models/machine-learning/LogisticRegression/LogisticRegression/) on a full dataset collected with Objectiv. Examples of predictions you can create:\n",
    "\n",
    "- Will a user convert?\n",
    "- Will a user start using a specific product feature or area?\n",
    "- Will a user have a long active session duration?"
   ]
  },
  {
   "cell_type": "markdown",
   "id": "d0bf9d4f-5b3f-48ad-bc96-c23f5d38a0db",
   "metadata": {},
   "source": [
    "## Get started\n",
    "We first have to instantiate the model hub and an Objectiv DataFrame object."
   ]
  },
  {
   "cell_type": "code",
   "execution_count": null,
   "id": "94148709",
   "metadata": {},
   "outputs": [],
   "source": [
    "# set the timeframe of the analysis\n",
    "start_date = '2022-03-01'\n",
    "end_date = None"
   ]
  },
  {
   "cell_type": "code",
   "execution_count": null,
   "id": "e97ff289",
   "metadata": {},
   "outputs": [],
   "source": [
    "from modelhub import ModelHub, display_sql_as_markdown\n",
    "from datetime import datetime\n",
    "\n",
    "# instantiate the model hub and set the default time aggregation to daily\n",
    "# and set the global contexts that will be used in this example\n",
    "modelhub = ModelHub(time_aggregation='%Y-%m-%d')\n",
    "# get a Bach DataFrame with Objectiv data within a defined timeframe\n",
    "df = modelhub.get_objectiv_dataframe(start_date=start_date, end_date=end_date)"
   ]
  },
  {
   "cell_type": "markdown",
   "id": "658d9b9a",
   "metadata": {},
   "source": [
    "The `location_stack` column, and the columns taken from the global contexts, contain most of the event-specific data. These columns are JSON typed, and we can extract data from it using the keys of the JSON objects with [`SeriesLocationStack`](https://objectiv.io/docs/modeling/open-model-hub/api-reference/SeriesLocationStack/SeriesLocationStack/) methods, or the `context` accessor for global context columns. See the [open taxonomy example](open-taxonomy-how-to.ipynb#Location-stack-&-global-contexts) for how to use the `location_stack` and global contexts. "
   ]
  },
  {
   "cell_type": "code",
   "execution_count": null,
   "id": "5fba7685",
   "metadata": {},
   "outputs": [],
   "source": [
    "df['root_location'] = df.location_stack.ls.get_from_context_with_type_series(type='RootLocationContext', key='id')"
   ]
  },
  {
   "cell_type": "markdown",
   "id": "260c8205",
   "metadata": {},
   "source": [
    "### Reference\n",
    "* [modelhub.ModelHub](https://objectiv.io/docs/modeling/open-model-hub/api-reference/ModelHub/ModelHub/)\n",
    "* [modelhub.ModelHub.get_objectiv_dataframe](https://objectiv.io/docs/modeling/open-model-hub/api-reference/ModelHub/get_objectiv_dataframe/)\n",
    "* [Using global context data](open-taxonomy-how-to.ipynb#Location-stack-&-global-contexts)\n",
    "* [modelhub.SeriesLocationStack.ls](https://objectiv.io/docs/modeling/open-model-hub/api-reference/SeriesLocationStack/ls/)"
   ]
  },
  {
   "cell_type": "markdown",
   "id": "1cbc2b0d",
   "metadata": {},
   "source": [
    "## Creating a feature set to predict user behavior"
   ]
  },
  {
   "cell_type": "markdown",
   "id": "20c780fa",
   "metadata": {},
   "source": [
    "For simple demonstration purposes, we'll predict if users on our own [website](https://www.objectiv.io) will reach the [modeling section of our docs](https://objectiv.io/docs/modeling/), by looking at interactions they have with all the main sections on our site, as defined by the [root location](https://objectiv.io/docs/taxonomy/reference/location-contexts/RootLocationContext/).\n",
    "\n",
    "We'll create a dataset that counts the number of clicks per user in each section. Note that this is a simple dataset used just for demonstration purposes of the logistic regression functionality, and not so much the results itself. For ins and outs on feature engineering see the [feature engineering notebook](https://objectiv.io/docs/modeling/example-notebooks/feature-engineering/)."
   ]
  },
  {
   "cell_type": "code",
   "execution_count": null,
   "id": "284d4b9f",
   "metadata": {},
   "outputs": [],
   "source": [
    "# first replace dashes in the root_location Series, because is unstacked later on\n",
    "# and dashes are not allowed in BigQuery column names\n",
    "df['root_location'] = df['root_location'].str.replace('-', '_')"
   ]
  },
  {
   "cell_type": "code",
   "execution_count": null,
   "id": "83127b2b",
   "metadata": {},
   "outputs": [],
   "source": [
    "# look at the number of clicks per user in each section; only PressEvents, counting the root_locations\n",
    "features = df[(df.event_type=='PressEvent')].groupby('user_id').root_location.value_counts()"
   ]
  },
  {
   "cell_type": "code",
   "execution_count": null,
   "id": "4225e176",
   "metadata": {},
   "outputs": [],
   "source": [
    "# unstack the series, to create a DataFrame with the number of clicks per root location as columns\n",
    "features_unstacked = features.unstack(fill_value=0)"
   ]
  },
  {
   "cell_type": "markdown",
   "id": "eff616fc",
   "metadata": {},
   "source": [
    "### Reference\n",
    "* [bach.DataFrame.groupby](https://objectiv.io/docs/modeling/bach/api-reference/DataFrame/groupby/)\n",
    "* [bach.Series.value_counts](https://objectiv.io/docs/modeling/bach/api-reference/Series/value_counts/)\n",
    "* [bach.DataFrame.unstack](https://objectiv.io/docs/modeling/bach/api-reference/DataFrame/unstack/)"
   ]
  },
  {
   "cell_type": "markdown",
   "id": "448a54de",
   "metadata": {},
   "source": [
    "### Sample the data\n",
    "To limit data processing and speed up fitting, let's take a 10% sample of the full dataset to train the model on. After the model is fitted, it can easily be unsampled again to predict the labels for the _entire_ dataset."
   ]
  },
  {
   "cell_type": "code",
   "execution_count": null,
   "id": "1318771d",
   "metadata": {},
   "outputs": [],
   "source": [
    "# take a 10% sample to train the model on\n",
    "# for BigQuery the table name should be 'YOUR_PROJECT.YOUR_WRITABLE_DATASET.YOUR_TABLE_NAME'\n",
    "features_set_sample = features_unstacked.get_sample('test_lr_sample', sample_percentage=10, overwrite=True)"
   ]
  },
  {
   "cell_type": "markdown",
   "id": "810f5a23",
   "metadata": {},
   "source": [
    "To predict whether a user clicked in the modeling section of our docs, we will look at the number of clicks in any of the other sections:\n",
    "- `X` is a [DataFrame](https://objectiv.io/docs/modeling/bach/api-reference/DataFrame/) that contains the explanatory variables.\n",
    "- `y` is a [SeriesBoolean](https://objectiv.io/docs/modeling/bach/api-reference/Series/Boolean/) with the labels we want to predict."
   ]
  },
  {
   "cell_type": "code",
   "execution_count": null,
   "id": "e5666a55",
   "metadata": {},
   "outputs": [],
   "source": [
    "# set the explanatory variables and labels to predict\n",
    "y_column = 'modeling'\n",
    "y = features_set_sample[y_column] > 0\n",
    "X = features_set_sample.drop(columns=[y_column])"
   ]
  },
  {
   "cell_type": "code",
   "execution_count": null,
   "id": "ced14b7d",
   "metadata": {},
   "outputs": [],
   "source": [
    "# see what `X` looks like\n",
    "X.head()"
   ]
  },
  {
   "cell_type": "code",
   "execution_count": null,
   "id": "1b3e8066",
   "metadata": {},
   "outputs": [],
   "source": [
    "# and see what `y` looks like\n",
    "y.head()"
   ]
  },
  {
   "cell_type": "markdown",
   "id": "355ec8cb",
   "metadata": {},
   "source": [
    "### Reference\n",
    "* [bach.DataFrame.get_sample](https://objectiv.io/docs/modeling/bach/api-reference/DataFrame/get_sample/)\n",
    "* [bach.DataFrame.head](https://objectiv.io/docs/modeling/bach/api-reference/DataFrame/head/)"
   ]
  },
  {
   "cell_type": "markdown",
   "id": "eb151986",
   "metadata": {},
   "source": [
    "## Instantiate & fit the logistic regression model\n",
    "As the model is based on sklearn's version of LogisticRegression, it can be instantiated with any parameters that [sklearn's LogisticRegression](https://scikit-learn.org/stable/modules/generated/sklearn.linear_model.LogisticRegression.html) supports. In our example we instantiate it with ``fit_intercept=False``."
   ]
  },
  {
   "cell_type": "code",
   "execution_count": null,
   "id": "83e709fc",
   "metadata": {},
   "outputs": [],
   "source": [
    "lr = modelhub.get_logistic_regression(fit_intercept=False)"
   ]
  },
  {
   "cell_type": "markdown",
   "id": "309b525d",
   "metadata": {},
   "source": [
    "The `fit` operation then fits it to the passed data. This operation extracts the data from the database under the hood."
   ]
  },
  {
   "cell_type": "code",
   "execution_count": null,
   "id": "26e7953e",
   "metadata": {},
   "outputs": [],
   "source": [
    "lr.fit(X, y)"
   ]
  },
  {
   "cell_type": "markdown",
   "id": "1231602c",
   "metadata": {},
   "source": [
    "### Reference\n",
    "* [modelhub.ModelHub.get_logistic_regression](https://objectiv.io/docs/modeling/open-model-hub/api-reference/ModelHub/get_logistic_regression/)\n",
    "* [modelhub.LogisticRegression.fit](https://objectiv.io/docs/modeling/open-model-hub/models/machine-learning/LogisticRegression/fit/)"
   ]
  },
  {
   "cell_type": "markdown",
   "id": "32d1f1e2",
   "metadata": {},
   "source": [
    "## Set accuracy & prediction\n",
    "All of the following operations are carried out directly on the database."
   ]
  },
  {
   "cell_type": "code",
   "execution_count": null,
   "id": "7d07122b",
   "metadata": {},
   "outputs": [],
   "source": [
    "# see the score\n",
    "lr.score(X, y)"
   ]
  },
  {
   "cell_type": "markdown",
   "id": "f123b3e2",
   "metadata": {},
   "source": [
    "The model provides the same attributes as [sklearn's Logistic Regression model](https://scikit-learn.org/stable/modules/generated/sklearn.linear_model.LogisticRegression.html), such as `coef_`. "
   ]
  },
  {
   "cell_type": "code",
   "execution_count": null,
   "id": "1262bc94",
   "metadata": {},
   "outputs": [],
   "source": [
    "# see the coefficients of the fitted model\n",
    "lr.coef_"
   ]
  },
  {
   "cell_type": "markdown",
   "id": "170dbab3",
   "metadata": {},
   "source": [
    "Now let's create columns for the predicted values and the labels in the dataset. Labels are set to `True` if the probability is over 0.5."
   ]
  },
  {
   "cell_type": "code",
   "execution_count": null,
   "id": "32672b17",
   "metadata": {},
   "outputs": [],
   "source": [
    "# create columns for predicted values and labels\n",
    "features_set_sample['predicted_values'] = lr.predict_proba(X)\n",
    "features_set_sample['predicted_labels'] = lr.predict(X)"
   ]
  },
  {
   "cell_type": "code",
   "execution_count": null,
   "id": "598a910c",
   "metadata": {},
   "outputs": [],
   "source": [
    "# see the sampled data set, including predictions\n",
    "features_set_sample.head(20)"
   ]
  },
  {
   "cell_type": "markdown",
   "id": "0621161f",
   "metadata": {},
   "source": [
    "### Reference\n",
    "* [modelhub.LogisticRegression.score](https://objectiv.io/docs/modeling/open-model-hub/models/machine-learning/LogisticRegression/score/)\n",
    "* [sklearn's Logistic Regression model](https://scikit-learn.org/stable/modules/generated/sklearn.linear_model.LogisticRegression.html)\n",
    "* [modelhub.LogisticRegression.predict_proba](https://objectiv.io/docs/modeling/open-model-hub/models/machine-learning/LogisticRegression/predict_proba/)\n",
    "* [modelhub.LogisticRegression.predict](https://objectiv.io/docs/modeling/open-model-hub/models/machine-learning/LogisticRegression/predict/)\n",
    "* [bach.DataFrame.head](https://objectiv.io/docs/modeling/bach/api-reference/DataFrame/head/)"
   ]
  },
  {
   "cell_type": "markdown",
   "id": "2f54a055",
   "metadata": {},
   "source": [
    "## Unsample and get the SQL\n",
    "The sampled dataset we used above can easily be unsampled."
   ]
  },
  {
   "cell_type": "code",
   "execution_count": null,
   "id": "072658d9",
   "metadata": {},
   "outputs": [],
   "source": [
    "features_set_full = features_set_sample.get_unsampled()"
   ]
  },
  {
   "cell_type": "markdown",
   "id": "42b3e806",
   "metadata": {},
   "source": [
    "The SQL for any analysis can be exported with one command, so you can use models in production directly to simplify data debugging & delivery to BI tools like Metabase, dbt, etc. See how you can [quickly create BI dashboards with this](https://objectiv.io/docs/home/up#creating-bi-dashboards)."
   ]
  },
  {
   "cell_type": "code",
   "execution_count": null,
   "id": "352e2c05",
   "metadata": {
    "scrolled": false
   },
   "outputs": [],
   "source": [
    "# show the underlying SQL for this dataframe - works for any dataframe/model in Objectiv\n",
    "display_sql_as_markdown(features_set_full)"
   ]
  },
  {
   "cell_type": "markdown",
   "id": "881f03c1",
   "metadata": {},
   "source": [
    "That’s it! Stay tuned for more metrics to assess model fit, as well as simplifying splitting the data into \n",
    "training and testing datasets.\n",
    "\n",
    "[Join us on Slack](https://objectiv.io/join-slack) if you have any questions or suggestions."
   ]
  },
  {
   "cell_type": "markdown",
   "id": "9b302f88",
   "metadata": {},
   "source": [
    "# Next Steps\n",
    "\n",
    "\n",
    "## Use this notebook with your own data\n",
    "You can use the example notebooks on any dataset that was collected with Objectiv's tracker, so feel free to \n",
    "use them to bootstrap your own projects. They are available as Jupyter notebooks on our [GitHub repository](https://github.com/objectiv/objectiv-analytics/tree/main/notebooks). See [instructions to set up the Objectiv tracker](https://objectiv.io/docs/tracking/).\n",
    "\n",
    "\n",
    "## Check out related example notebooks\n",
    "- [User Intent analysis](./basic-user-intent.ipynb) - run basic User Intent analysis with Objectiv."
   ]
  }
 ],
 "metadata": {
  "kernelspec": {
   "display_name": "Python 3 (ipykernel)",
   "language": "python",
   "name": "python3"
  },
  "language_info": {
   "codemirror_mode": {
    "name": "ipython",
    "version": 3
   },
   "file_extension": ".py",
   "mimetype": "text/x-python",
   "name": "python",
   "nbconvert_exporter": "python",
   "pygments_lexer": "ipython3",
   "version": "3.8.10"
  }
 },
 "nbformat": 4,
 "nbformat_minor": 5
}
