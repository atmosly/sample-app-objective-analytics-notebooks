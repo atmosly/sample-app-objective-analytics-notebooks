{
 "cells": [
  {
   "cell_type": "markdown",
   "id": "6166232a",
   "metadata": {},
   "source": [
    "This is one of the Objectiv [example notebooks](https://objectiv.io/docs/modeling/example-notebooks/). These notebooks can also run [on your own data](https://objectiv.io/docs/modeling/get-started-in-your-notebook/) (see [how to set up tracking](https://objectiv.io/docs/tracking/))."
   ]
  },
  {
   "cell_type": "markdown",
   "id": "ea05523b-5044-497f-a8dc-8053b06896ec",
   "metadata": {},
   "source": [
    "This example notebook shows how you can use Objectiv to create a basic feature set and use sklearn to do \n",
    "Machine Learning directly on the raw data in your SQL database. We also have an example that goes deeper into\n",
    "[feature engineering](https://objectiv.io/docs/modeling/example-notebooks/feature-engineering/)."
   ]
  },
  {
   "cell_type": "markdown",
   "id": "096321a3",
   "metadata": {},
   "source": [
    "## Get started\n",
    "We first have to instantiate the model hub and an Objectiv DataFrame object."
   ]
  },
  {
   "cell_type": "code",
   "execution_count": null,
   "id": "e97ff289",
   "metadata": {},
   "outputs": [],
   "source": [
    "# set the timeframe of the analysis\n",
    "start_date = '2022-03-01'\n",
    "end_date = None"
   ]
  },
  {
   "cell_type": "code",
   "execution_count": null,
   "id": "d582b77f",
   "metadata": {},
   "outputs": [],
   "source": [
    "from modelhub import ModelHub, display_sql_as_markdown\n",
    "from sklearn import cluster\n",
    "\n",
    "# instantiate the model hub and set the default time aggregation to daily\n",
    "modelhub = ModelHub(time_aggregation='%Y-%m-%d')\n",
    "# get a Bach DataFrame with Objectiv data within a defined timeframe\n",
    "df = modelhub.get_objectiv_dataframe(start_date=start_date, end_date=end_date)"
   ]
  },
  {
   "cell_type": "markdown",
   "id": "20c780fa",
   "metadata": {},
   "source": [
    "This object points to all data in the dataset, which is too large to run in pandas and therefore sklearn. For \n",
    "the dataset that we need, we will aggregate to user level, at which point it is small enough to fit in memory."
   ]
  },
  {
   "cell_type": "markdown",
   "id": "ec902f8d",
   "metadata": {},
   "source": [
    "### Reference\n",
    "* [modelhub.ModelHub](https://objectiv.io/docs/modeling/open-model-hub/api-reference/ModelHub/ModelHub/)\n",
    "* [modelhub.ModelHub.get_objectiv_dataframe](https://objectiv.io/docs/modeling/open-model-hub/api-reference/ModelHub/get_objectiv_dataframe/)"
   ]
  },
  {
   "cell_type": "markdown",
   "id": "c7737868",
   "metadata": {},
   "source": [
    "## Create the dataset\n",
    "We'll create a dataset of all the root locations that a user clicked on, per user."
   ]
  },
  {
   "cell_type": "code",
   "execution_count": null,
   "id": "3b6aefac",
   "metadata": {},
   "outputs": [],
   "source": [
    "df['root'] = df.location_stack.ls.get_from_context_with_type_series(type='RootLocationContext', key='id')\n",
    "# root series is later unstacked and its values might contain dashes\n",
    "# which are not allowed in BigQuery column names, lets replace them\n",
    "df['root'] = df['root'].str.replace('-', '_')"
   ]
  },
  {
   "cell_type": "code",
   "execution_count": null,
   "id": "83127b2b",
   "metadata": {},
   "outputs": [],
   "source": [
    "features = df[(df.event_type=='PressEvent')].groupby('user_id').root.value_counts()\n",
    "features.head()"
   ]
  },
  {
   "cell_type": "code",
   "execution_count": null,
   "id": "4225e176",
   "metadata": {},
   "outputs": [],
   "source": [
    "features_unstacked = features.unstack(fill_value=0)\n",
    "# sample or not\n",
    "kmeans_frame = features_unstacked\n",
    "# for BigQuery the table name should be 'YOUR_PROJECT.YOUR_WRITABLE_DATASET.YOUR_TABLE_NAME'\n",
    "kmeans_frame = features_unstacked.get_sample(table_name='kmeans_test', sample_percentage=50, overwrite=True)"
   ]
  },
  {
   "cell_type": "markdown",
   "id": "2708c73a",
   "metadata": {},
   "source": [
    "Now we have a basic feature set that is small enough to fit in memory. This can be used with sklearn, as we demonstrate in this example."
   ]
  },
  {
   "cell_type": "markdown",
   "id": "0e2b58c9",
   "metadata": {},
   "source": [
    "### Reference\n",
    "* [using global context data](open-taxonomy-how-to.ipynb#Location-stack-&-global-contexts)\n",
    "* [modelhub.SeriesLocationStack.ls](https://objectiv.io/docs/modeling/open-model-hub/api-reference/SeriesLocationStack/ls/)\n",
    "* [bach.DataFrame.groupby](https://objectiv.io/docs/modeling/bach/api-reference/DataFrame/groupby/)\n",
    "* [bach.Series.value_counts](https://objectiv.io/docs/modeling/bach/api-reference/Series/value_counts/)\n",
    "* [bach.DataFrame.head](https://objectiv.io/docs/modeling/bach/api-reference/DataFrame/head/)\n",
    "* [bach.DataFrame.unstack](https://objectiv.io/docs/modeling/bach/api-reference/DataFrame/unstack/)\n",
    "* [bach.DataFrame.get_sample](https://objectiv.io/docs/modeling/bach/api-reference/DataFrame/get_sample/)"
   ]
  },
  {
   "cell_type": "markdown",
   "id": "2776c469",
   "metadata": {},
   "source": [
    "## Export to pandas for sklearn"
   ]
  },
  {
   "cell_type": "code",
   "execution_count": null,
   "id": "1d14b11d",
   "metadata": {},
   "outputs": [],
   "source": [
    "# export to pandas now\n",
    "pdf = kmeans_frame.to_pandas()\n",
    "pdf"
   ]
  },
  {
   "cell_type": "markdown",
   "id": "793e8090",
   "metadata": {},
   "source": [
    "### Reference\n",
    "* [bach.DataFrame.to_pandas](https://objectiv.io/docs/modeling/bach/api-reference/DataFrame/to_pandas/)"
   ]
  },
  {
   "cell_type": "markdown",
   "id": "53824b93",
   "metadata": {},
   "source": [
    "## Do basic kmeans clustering\n",
    "Now that we have a pandas DataFrame with our dataset, we can run basic kmeans clustering on it."
   ]
  },
  {
   "cell_type": "code",
   "execution_count": null,
   "id": "a52fac18",
   "metadata": {},
   "outputs": [],
   "source": [
    "# do basic kmeans\n",
    "est = cluster.KMeans(n_clusters=3)\n",
    "est.fit(pdf)\n",
    "pdf['cluster'] = est.labels_"
   ]
  },
  {
   "cell_type": "markdown",
   "id": "c18daa71",
   "metadata": {},
   "source": [
    "Now you can use the created clusters on your entire dataset again if you add it back to your DataFrame. This is simple, as Bach and pandas work together nicely. Your original Objectiv data now has a 'cluster' column."
   ]
  },
  {
   "cell_type": "code",
   "execution_count": null,
   "id": "62ff0073",
   "metadata": {},
   "outputs": [],
   "source": [
    "kmeans_frame['cluster'] = pdf['cluster']\n",
    "kmeans_frame.sort_values('cluster').head()"
   ]
  },
  {
   "cell_type": "code",
   "execution_count": null,
   "id": "4f78616a",
   "metadata": {},
   "outputs": [],
   "source": [
    "df_with_cluster = df.merge(kmeans_frame[['cluster']], on='user_id')\n",
    "df_with_cluster.head()"
   ]
  },
  {
   "cell_type": "markdown",
   "id": "6920e6b4",
   "metadata": {},
   "source": [
    "You can use this column just like any other. For example, you can now use your created clusters to group models from the model hub:"
   ]
  },
  {
   "cell_type": "code",
   "execution_count": null,
   "id": "5206e4f1",
   "metadata": {},
   "outputs": [],
   "source": [
    "modelhub.aggregate.session_duration(df_with_cluster, groupby='cluster').head()"
   ]
  },
  {
   "cell_type": "markdown",
   "id": "111e2038",
   "metadata": {},
   "source": [
    "### Reference\n",
    "* [bach.DataFrame.sort_values](https://objectiv.io/docs/modeling/bach/api-reference/DataFrame/sort_values/)\n",
    "* [bach.DataFrame.head](https://objectiv.io/docs/modeling/bach/api-reference/DataFrame/head/)\n",
    "* [bach.DataFrame.merge](https://objectiv.io/docs/modeling/bach/api-reference/DataFrame/merge/)\n",
    "* [modelhub.Aggregate.session_duration](https://objectiv.io/docs/modeling/open-model-hub/models/aggregation/session_duration/)"
   ]
  },
  {
   "cell_type": "markdown",
   "id": "578ab83d",
   "metadata": {},
   "source": [
    "## Get the SQL for any analysis\n",
    "The SQL for any analysis can be exported with one command, so you can use models in production directly to simplify data debugging & delivery to BI tools like Metabase, dbt, etc. See how you can [quickly create BI dashboards with this](https://objectiv.io/docs/home/up#creating-bi-dashboards)."
   ]
  },
  {
   "cell_type": "code",
   "execution_count": null,
   "id": "e68d6eae",
   "metadata": {},
   "outputs": [],
   "source": [
    "# show SQL for analysis; this is just one example, and works for any Objectiv model/analysis\n",
    "display_sql_as_markdown(features)"
   ]
  },
  {
   "cell_type": "markdown",
   "id": "046b43f0",
   "metadata": {},
   "source": [
    "That's it! [Join us on Slack](https://objectiv.io/join-slack) if you have any questions or suggestions."
   ]
  },
  {
   "cell_type": "markdown",
   "id": "6144ec2c",
   "metadata": {},
   "source": [
    "# Next Steps\n",
    "\n",
    "### Use this notebook with your own data\n",
    "\n",
    "You can use the example notebooks on any dataset that was collected with Objectiv's tracker, so feel free to \n",
    "use them to bootstrap your own projects. They are available as Jupyter notebooks on our [GitHub repository](https://github.com/objectiv/objectiv-analytics/tree/main/notebooks). See [instructions to set up the Objectiv tracker](https://objectiv.io/docs/tracking/).\n",
    "\n",
    "### Check out related example notebooks\n",
    "\n",
    "* [Feature engineering](https://objectiv.io/docs/modeling/example-notebooks/feature-engineering/) - see how [modeling library Bach](https://objectiv.io/docs/modeling/bach/) can be used for feature engineering."
   ]
  }
 ],
 "metadata": {
  "kernelspec": {
   "display_name": "Python 3 (ipykernel)",
   "language": "python",
   "name": "python3"
  },
  "language_info": {
   "codemirror_mode": {
    "name": "ipython",
    "version": 3
   },
   "file_extension": ".py",
   "mimetype": "text/x-python",
   "name": "python",
   "nbconvert_exporter": "python",
   "pygments_lexer": "ipython3",
   "version": "3.8.10"
  }
 },
 "nbformat": 4,
 "nbformat_minor": 5
}
