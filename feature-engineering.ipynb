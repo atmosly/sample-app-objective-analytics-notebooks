{
 "cells": [
  {
   "cell_type": "markdown",
   "id": "8d73f976",
   "metadata": {},
   "source": [
    "This is one of the Objectiv [example notebooks](https://objectiv.io/docs/modeling/example-notebooks/). These notebooks can also run [on your own data](https://objectiv.io/docs/modeling/get-started-in-your-notebook/) (see [how to set up tracking](https://objectiv.io/docs/tracking/))."
   ]
  },
  {
   "cell_type": "markdown",
   "id": "900e6de4",
   "metadata": {},
   "source": [
    "# Feature engineering"
   ]
  },
  {
   "cell_type": "markdown",
   "id": "0371a170",
   "metadata": {},
   "source": [
    "This example shows how modeling library Bach can be used for feature engineering. We'll go through describing the data, finding outliers, transforming data, and grouping & aggregating data so that a useful feature set is created that can be used for machine learning. To see details of how such a dataset can be used for machine learning with sklearn, [see our ML notebook](https://objectiv.io/docs/modeling/example-notebooks/machine-learning/)."
   ]
  },
  {
   "cell_type": "markdown",
   "id": "6808e5c8-943b-455c-b6c3-fa0ad0c72fcc",
   "metadata": {},
   "source": [
    "## Get started\n",
    "We first have to instantiate the model hub and an Objectiv DataFrame object."
   ]
  },
  {
   "cell_type": "code",
   "execution_count": null,
   "id": "38088ea0-66ce-46c2-9217-a43112fb5cf7",
   "metadata": {},
   "outputs": [],
   "source": [
    "# set the timeframe of the analysis\n",
    "start_date = '2022-03-01'\n",
    "end_date = None"
   ]
  },
  {
   "cell_type": "code",
   "execution_count": null,
   "id": "d582b77f",
   "metadata": {},
   "outputs": [],
   "source": [
    "from modelhub import ModelHub, display_sql_as_markdown\n",
    "\n",
    "# instantiate the model hub and set the default time aggregation to daily\n",
    "# and set the global contexts that will be used in this example\n",
    "modelhub = ModelHub(time_aggregation='%Y-%m-%d', global_contexts=['application'])\n",
    "# get a Bach DataFrame with Objectiv data within a defined timeframe\n",
    "df = modelhub.get_objectiv_dataframe(start_date=start_date, end_date=end_date)"
   ]
  },
  {
   "cell_type": "markdown",
   "id": "1524ade4",
   "metadata": {},
   "source": [
    "This object points to all data in the dataset, which is too large to run in pandas and therefore sklearn. For \n",
    "the dataset that we need, we will aggregate to user level, at which point it is small enough to fit in memory.\n",
    "\n",
    "We'll start with showing the first couple of rows and describing the entire dataset."
   ]
  },
  {
   "cell_type": "markdown",
   "id": "bd297fee",
   "metadata": {},
   "source": [
    "### Reference\n",
    "* [modelhub.ModelHub](https://objectiv.io/docs/modeling/open-model-hub/api-reference/ModelHub/ModelHub/)\n",
    "* [modelhub.ModelHub.get_objectiv_dataframe](https://objectiv.io/docs/modeling/open-model-hub/api-reference/ModelHub/get_objectiv_dataframe/)"
   ]
  },
  {
   "cell_type": "markdown",
   "id": "3c97f188",
   "metadata": {},
   "source": [
    "## Describe the data"
   ]
  },
  {
   "cell_type": "markdown",
   "id": "746c05af",
   "metadata": {},
   "source": [
    "We start with showing the first couple of rows from the data set and describing the entire data set."
   ]
  },
  {
   "cell_type": "code",
   "execution_count": null,
   "id": "cce4ef5a",
   "metadata": {},
   "outputs": [],
   "source": [
    "df.head()"
   ]
  },
  {
   "cell_type": "markdown",
   "id": "ce646300",
   "metadata": {},
   "source": [
    "Columns of interest are `user_id`, as this is what we will aggregate to, and `moment`, as this contains timestamp info for the\n",
    "events. \n",
    "\n",
    "See the [open taxonomy example](open-taxonomy-how-to.ipynb#Location-stack-&-global-contexts) for how to use the `location_stack` and `global_contexts` columns."
   ]
  },
  {
   "cell_type": "markdown",
   "id": "605ae7c4",
   "metadata": {},
   "source": [
    "Now let's look some more into our dataset to see what it contains."
   ]
  },
  {
   "cell_type": "code",
   "execution_count": null,
   "id": "e76ac10d",
   "metadata": {
    "scrolled": true
   },
   "outputs": [],
   "source": [
    "df.describe(include='all').head()"
   ]
  },
  {
   "cell_type": "markdown",
   "id": "f1de447e",
   "metadata": {},
   "source": [
    "### Reference\n",
    "* [bach.DataFrame.describe](https://objectiv.io/docs/modeling/bach/api-reference/DataFrame/describe/)\n",
    "* [bach.DataFrame.head](https://objectiv.io/docs/modeling/bach/api-reference/DataFrame/head/)"
   ]
  },
  {
   "cell_type": "markdown",
   "id": "bbffda98",
   "metadata": {},
   "source": [
    "## Create a feature set \n",
    "We'd like to create a feature set that describes the behavior of users in a certain way. We start with extracting the [`root_location`](https://objectiv.io/docs/taxonomy/reference/location-contexts/RootLocationContext) from the location stack, which captures the main areas users have visited. Using `to_numpy()` shows the results as a numpy array."
   ]
  },
  {
   "cell_type": "code",
   "execution_count": null,
   "id": "3b6aefac",
   "metadata": {},
   "outputs": [],
   "source": [
    "df['root_location'] = df.location_stack.ls.get_from_context_with_type_series(type='RootLocationContext', key='id')\n",
    "\n",
    "# root series is later unstacked and its values might contain dashes\n",
    "# which are not allowed in BigQuery column names, lets replace them\n",
    "df['root_location'] = df['root_location'].str.replace('-', '_')\n",
    "df.root_location.unique().to_numpy()"
   ]
  },
  {
   "cell_type": "markdown",
   "id": "86e7a96b",
   "metadata": {},
   "source": [
    "This returns `['jobs', 'docs', 'home'...]` etc., which in this example are the sections of the objectiv.io website."
   ]
  },
  {
   "cell_type": "markdown",
   "id": "ec39a5b2",
   "metadata": {},
   "source": [
    "### Check any missing values"
   ]
  },
  {
   "cell_type": "code",
   "execution_count": null,
   "id": "749077bb",
   "metadata": {},
   "outputs": [],
   "source": [
    "df.root_location.isnull().value_counts().head()"
   ]
  },
  {
   "cell_type": "markdown",
   "id": "c6a7dfd2",
   "metadata": {},
   "source": [
    "This shows us that there are no missing values to worry about. Now we want a dataset with interactions on our different sections. In particular, [PressEvents](https://objectiv.io/docs/taxonomy/reference/events/PressEvent), an event type. We first want an overview of the different event types that exist and select the one we are interested in."
   ]
  },
  {
   "cell_type": "code",
   "execution_count": null,
   "id": "380b60b4",
   "metadata": {},
   "outputs": [],
   "source": [
    "df.event_type.unique().to_numpy()"
   ]
  },
  {
   "cell_type": "markdown",
   "id": "c6ad5bbf",
   "metadata": {},
   "source": [
    "We are interested in all `PressEvent` event types:"
   ]
  },
  {
   "cell_type": "code",
   "execution_count": null,
   "id": "33ad2374",
   "metadata": {},
   "outputs": [],
   "source": [
    "df[(df.event_type=='PressEvent')].root_location.unique().to_numpy()"
   ]
  },
  {
   "cell_type": "code",
   "execution_count": null,
   "id": "763b738e",
   "metadata": {},
   "outputs": [],
   "source": [
    "df[(df.event_type=='PressEvent')].describe(include='string').head()"
   ]
  },
  {
   "cell_type": "markdown",
   "id": "4406a7a3",
   "metadata": {},
   "source": [
    "### Create the variables\n",
    "Here we select only PressEvents and then group by `user_id` & `root`, and count the session_hit_number. After that the results are unstacked, resulting in a table where each row represents a user (the index is `user_id`), the columns are the different root_locations, and its values are the number of times a user clicked in those sections."
   ]
  },
  {
   "cell_type": "code",
   "execution_count": null,
   "id": "83127b2b",
   "metadata": {},
   "outputs": [],
   "source": [
    "features = df[(df.event_type=='PressEvent')].groupby(['user_id','root_location']).session_hit_number.count()"
   ]
  },
  {
   "cell_type": "code",
   "execution_count": null,
   "id": "7151b993",
   "metadata": {},
   "outputs": [],
   "source": [
    "features_unstacked = features.unstack()"
   ]
  },
  {
   "cell_type": "code",
   "execution_count": null,
   "id": "78ba9cb3",
   "metadata": {},
   "outputs": [],
   "source": [
    "features_unstacked.materialize().describe().head()"
   ]
  },
  {
   "cell_type": "code",
   "execution_count": null,
   "id": "f20c9553",
   "metadata": {},
   "outputs": [],
   "source": [
    "features_unstacked.head()"
   ]
  },
  {
   "cell_type": "markdown",
   "id": "804874af",
   "metadata": {},
   "source": [
    "### Fill empty values\n",
    "Now we do have empty values, so we fill them with 0, as empty means that the user did not click in the\n",
    "section."
   ]
  },
  {
   "cell_type": "code",
   "execution_count": null,
   "id": "b13a2406",
   "metadata": {},
   "outputs": [],
   "source": [
    "features_unstacked = features.unstack(fill_value=0)"
   ]
  },
  {
   "cell_type": "markdown",
   "id": "3917a31d",
   "metadata": {},
   "source": [
    "### Describe the dataset again\n",
    "We use describe again to get an impression of out created per-user data set."
   ]
  },
  {
   "cell_type": "code",
   "execution_count": null,
   "id": "3536706e",
   "metadata": {},
   "outputs": [],
   "source": [
    "features_unstacked.materialize().describe().head()"
   ]
  },
  {
   "cell_type": "markdown",
   "id": "17432bf5",
   "metadata": {},
   "source": [
    "Looking at the mean, some `root_locations` seem to be used a lot more than others. Also, the max number of clicks seems quite different per `root_location`. This information can be used to drop some of the variables from our dataset, or to use scaling or outlier detection. We will plot histograms for this."
   ]
  },
  {
   "cell_type": "markdown",
   "id": "31d779c8",
   "metadata": {},
   "source": [
    "### Visualize the data"
   ]
  },
  {
   "cell_type": "code",
   "execution_count": null,
   "id": "6b8306ad",
   "metadata": {},
   "outputs": [],
   "source": [
    "from matplotlib import pyplot as plt\n",
    "import math\n",
    "\n",
    "figure, axis = plt.subplots(math.ceil(len(features_unstacked.data_columns)/4), 4, figsize=(15,10))\n",
    "\n",
    "for idx, name in enumerate(features_unstacked.data_columns):\n",
    "    features_unstacked[[name]].plot.hist(bins=5, title=name, ax=axis.flat[idx])\n",
    "plt.tight_layout()"
   ]
  },
  {
   "cell_type": "markdown",
   "id": "518c590e",
   "metadata": {},
   "source": [
    "The histograms show that indeed the higher values seem quite anomalous for most of the root_locations. This could be a reason to drop some of these observations, or resort to scaling methods. For now we continue with the dataset as is."
   ]
  },
  {
   "cell_type": "markdown",
   "id": "e796d882",
   "metadata": {},
   "source": [
    "### Add time feature\n",
    "Now we want to add the time feature to our dataset. We'll add the average session length per user for that, using `fillna`to fill missing values."
   ]
  },
  {
   "cell_type": "code",
   "execution_count": null,
   "id": "bced215a",
   "metadata": {},
   "outputs": [],
   "source": [
    "import datetime\n",
    "\n",
    "features_unstacked['session_duration'] = modelhub.aggregate.session_duration(df, groupby='user_id')\n",
    "features_unstacked['session_duration'] = features_unstacked['session_duration'].fillna(datetime.timedelta(0))"
   ]
  },
  {
   "cell_type": "code",
   "execution_count": null,
   "id": "e0d7e29b",
   "metadata": {},
   "outputs": [],
   "source": [
    "features_unstacked.session_duration.describe().head()"
   ]
  },
  {
   "cell_type": "markdown",
   "id": "8f6831b9",
   "metadata": {},
   "source": [
    "### Reference\n",
    "* [using global context data](open-taxonomy-how-to.ipynb#Location-stack-&-global-contexts)\n",
    "* [modelhub.SeriesLocationStack.ls](https://objectiv.io/docs/modeling/open-model-hub/api-reference/SeriesLocationStack/ls/)\n",
    "* [bach.Series.unique](https://objectiv.io/docs/modeling/bach/api-reference/Series/unique/)\n",
    "* [bach.Series.to_numpy](https://objectiv.io/docs/modeling/bach/api-reference/Series/to_numpy/)\n",
    "* [bach.DataFrame.describe](https://objectiv.io/docs/modeling/bach/api-reference/DataFrame/describe/)\n",
    "* [bach.DataFrame.head](https://objectiv.io/docs/modeling/bach/api-reference/DataFrame/head/)\n",
    "* [bach.Series.count](https://objectiv.io/docs/modeling/bach/api-reference/Series/count/)\n",
    "* [bach.DataFrame.count](https://objectiv.io/docs/modeling/bach/api-reference/DataFrame/count/)\n",
    "* [bach.DataFrame.materialize](https://objectiv.io/docs/modeling/bach/api-reference/DataFrame/materialize/)\n",
    "* [bach.DataFrame.unstack](https://objectiv.io/docs/modeling/bach/api-reference/DataFrame/unstack/)\n",
    "* [modelhub.Aggregate.session_duration](https://objectiv.io/docs/modeling/open-model-hub/models/aggregation/session_duration/)\n",
    "* [bach.DataFrame.fillna](https://objectiv.io/docs/modeling/bach/api-reference/DataFrame/fillna/)"
   ]
  },
  {
   "cell_type": "markdown",
   "id": "2a771131",
   "metadata": {},
   "source": [
    "## Export to pandas for sklearn\n",
    "Now that we have our dataset, we can use it for machine learning, e.g. with sklearn. To do so, we call `to_pandas()` to get a pandas DataFrame that can be used in sklearn.\n",
    "\n",
    "Also [see the example notebook on how to use Objectiv data and sklearn](https://objectiv.io/docs/modeling/example-notebooks/machine-learning/)."
   ]
  },
  {
   "cell_type": "code",
   "execution_count": null,
   "id": "1d14b11d",
   "metadata": {},
   "outputs": [],
   "source": [
    "pdf = features_unstacked.to_pandas()\n",
    "pdf"
   ]
  },
  {
   "cell_type": "markdown",
   "id": "ac82a904",
   "metadata": {},
   "source": [
    "### Reference\n",
    "* [bach.DataFrame.to_pandas](https://objectiv.io/docs/modeling/bach/api-reference/DataFrame/to_pandas/)"
   ]
  },
  {
   "cell_type": "markdown",
   "id": "733e5067",
   "metadata": {},
   "source": [
    "## Get the SQL for any analysis\n",
    "The SQL for any analysis can be exported with one command, so you can use models in production directly to simplify data debugging & delivery to BI tools like Metabase, dbt, etc. See how you can [quickly create BI dashboards with this](https://objectiv.io/docs/home/up#creating-bi-dashboards)."
   ]
  },
  {
   "cell_type": "code",
   "execution_count": null,
   "id": "4004ffd9",
   "metadata": {},
   "outputs": [],
   "source": [
    "# show SQL for analysis; this is just one example, and works for any Objectiv model/analysis\n",
    "# complex SQL statement alert!\n",
    "display_sql_as_markdown(features_unstacked)"
   ]
  },
  {
   "cell_type": "markdown",
   "id": "2657c201",
   "metadata": {},
   "source": [
    "That's it! [Join us on Slack](https://objectiv.io/join-slack) if you have any questions or suggestions."
   ]
  },
  {
   "cell_type": "markdown",
   "id": "d4ec8e09",
   "metadata": {},
   "source": [
    "# Next Steps\n",
    "\n",
    "### Use this notebook with your own data\n",
    "\n",
    "You can use the example notebooks on any dataset that was collected with Objectiv's tracker, so feel free to \n",
    "use them to bootstrap your own projects. They are available as Jupyter notebooks on our [GitHub repository](https://github.com/objectiv/objectiv-analytics/tree/main/notebooks). See [instructions to set up the Objectiv tracker](https://objectiv.io/docs/tracking/).\n",
    "\n",
    "### Check out related example notebooks\n",
    "\n",
    "* [Bach and sklearn](./sklearn-example.ipynb) - see how you can do all your analysis and Machine Learning directly on the raw data in your SQL database with Objectiv."
   ]
  }
 ],
 "metadata": {
  "kernelspec": {
   "display_name": "Python 3 (ipykernel)",
   "language": "python",
   "name": "python3"
  },
  "language_info": {
   "codemirror_mode": {
    "name": "ipython",
    "version": 3
   },
   "file_extension": ".py",
   "mimetype": "text/x-python",
   "name": "python",
   "nbconvert_exporter": "python",
   "pygments_lexer": "ipython3",
   "version": "3.8.10"
  }
 },
 "nbformat": 4,
 "nbformat_minor": 5
}
