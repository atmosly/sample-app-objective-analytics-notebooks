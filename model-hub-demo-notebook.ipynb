{
 "cells": [
  {
   "cell_type": "markdown",
   "id": "a88d78f5",
   "metadata": {},
   "source": [
    "This is one of the Objectiv [example notebooks](https://objectiv.io/docs/modeling/example-notebooks/). These notebooks can also run [on your own data](https://objectiv.io/docs/modeling/get-started-in-your-notebook/) (see [how to set up tracking](https://objectiv.io/docs/tracking/))."
   ]
  },
  {
   "cell_type": "markdown",
   "id": "25b2e58e",
   "metadata": {},
   "source": [
    "# Open Model Hub basics\n",
    "This example notebook demonstrates how you can use the pre-built models from the [open model hub](https://objectiv.io/docs/modeling/) in conjunction with modeling library [Bach](https://objectiv.io/docs/modeling/bach/) to quickly build model stacks to answer common analytics questions.\n",
    "\n",
    "For more background and an overview of all available models, see the [open model hub documentation](https://objectiv.io/docs/modeling/open-model-hub/)."
   ]
  },
  {
   "cell_type": "markdown",
   "id": "446e8df0",
   "metadata": {},
   "source": [
    "## Using the Open Model Hub\n",
    "The following types of functions/models are provided:\n",
    "\n",
    "1. [Helper functions](https://objectiv.io/docs/modeling/open-model-hub/models/helper-functions/): Simplify manipulating and analyzing the data.\n",
    "2. [Aggregation models](https://objectiv.io/docs/modeling/open-model-hub/models/aggregation/): Enable running some of the more common data analyses and product analytics metrics.\n",
    "3. [Machine learning models](https://objectiv.io/docs/modeling/open-model-hub/models/machine-learning/): ML models such as logistic regression.\n",
    "4. [Funnels](https://objectiv.io/docs/modeling/open-model-hub/models/funnels/): To analyze Funnels, e.g. discover all the (top) user journeys that lead to conversion or drop-off.\n",
    "\n",
    "Modeling behavior of users and groups is enabled through configurable [Identity Resolution](https://objectiv.io/docs/modeling/open-model-hub/identity-resolution/).\n",
    "\n",
    "**Helper functions** always return a [Series](https://objectiv.io/docs/modeling/bach/api-reference/Series/) with the same shape and index as the [DataFrame](https://objectiv.io/docs/modeling/bach/api-reference/DataFrame/) they are applied to. This ensures they can be added as a column to that [DataFrame](https://objectiv.io/docs/modeling/bach/api-reference/DataFrame/). Helper functions that return [SeriesBoolean](https://objectiv.io/docs/modeling/bach/api-reference/Series/Boolean/) can be used to filter the data. The helper functions can be accessed with the `map` accessor from a model hub instance.\n",
    "\n",
    "**Aggregation models** perform multiple [Bach](https://objectiv.io/docs/modeling/bach/) instructions that run some of the more common data analyses and product analytics metrics. They always return aggregated data in some form from the [DataFrame](https://objectiv.io/docs/modeling/bach/api-reference/DataFrame/) they're applied to. Aggregation models can be accessed with the `aggregate` accessor from a model hub instance.\n",
    "\n",
    "Most of the model hub helper functions and aggregation models take `data` as their first argument: this is\n",
    "the [DataFrame](https://objectiv.io/docs/modeling/bach/api-reference/DataFrame/) with the Objectiv data to apply the model to. \n",
    "\n",
    "For an example of a **machine learning model**, see the [logistic regression example notebook](https://objectiv.io/docs/modeling/example-notebooks/logistic-regression/).\n",
    "\n",
    "Below we'll showcase a selection of the models from the open model hub."
   ]
  },
  {
   "cell_type": "markdown",
   "id": "427609c1-99ec-4513-9487-0eab6930de2d",
   "metadata": {},
   "source": [
    "## Get started\n",
    "We first have to instantiate the model hub and an Objectiv DataFrame object."
   ]
  },
  {
   "cell_type": "code",
   "execution_count": null,
   "id": "e97ff289",
   "metadata": {},
   "outputs": [],
   "source": [
    "# set the timeframe of the analysis\n",
    "start_date = '2022-03-01'\n",
    "end_date = None"
   ]
  },
  {
   "cell_type": "code",
   "execution_count": null,
   "id": "8d7ad565-6725-4d70-b679-d08aba0e197d",
   "metadata": {},
   "outputs": [],
   "source": [
    "from modelhub import ModelHub, display_sql_as_markdown\n",
    "from sql_models.util import is_bigquery\n",
    "\n",
    "# instantiate the model hub and set the default time aggregation to daily\n",
    "# and set the global contexts that will be used in this example\n",
    "modelhub = ModelHub(time_aggregation='%Y-%m-%d', global_contexts=['application'])\n",
    "# get a Bach DataFrame with Objectiv data within a defined timeframe\n",
    "df = modelhub.get_objectiv_dataframe(start_date=start_date, end_date=end_date)"
   ]
  },
  {
   "cell_type": "markdown",
   "id": "55856436",
   "metadata": {},
   "source": [
    "### Reference\n",
    "* [modelhub.ModelHub](https://objectiv.io/docs/modeling/open-model-hub/api-reference/ModelHub/ModelHub/)\n",
    "* [modelhub.ModelHub.get_objectiv_dataframe](https://objectiv.io/docs/modeling/open-model-hub/api-reference/ModelHub/get_objectiv_dataframe/)"
   ]
  },
  {
   "cell_type": "markdown",
   "id": "e9f3070b",
   "metadata": {},
   "source": [
    "## Run a simple aggregation model\n",
    "Calculating the number of unique users is one of the models. As it is an aggregation model, it's called with [`model_hub.aggregate.unique_users()`](https://objectiv.io/docs/modeling/open-model-hub/models/aggregation/unique_users/) (or `model_hub.agg.unique_users()` for short). It uses the `time_aggregation` that is set when the model hub was instantiated. \n",
    "\n",
    "With [`.head()`](https://objectiv.io/docs/modeling/bach/api-reference/DataFrame/head/) we immediately query the data to show the results. [`.to_pandas()`](https://objectiv.io/docs/modeling/bach/api-reference/DataFrame/to_pandas/) can be used to use all results as a pandas object in Python. These (and the following) results are sorted descending, so we show the latest data first."
   ]
  },
  {
   "cell_type": "code",
   "execution_count": null,
   "id": "65632d2b",
   "metadata": {},
   "outputs": [],
   "source": [
    "# calculate the unique users per set time_aggregation (in this case per day)\n",
    "users = modelhub.aggregate.unique_users(df)\n",
    "users.sort_index(ascending=False).head(10)"
   ]
  },
  {
   "cell_type": "markdown",
   "id": "4a5d6f73",
   "metadata": {},
   "source": [
    "### Reference\n",
    "* [modelhub.Aggregate.unique_users](https://objectiv.io/docs/modeling/open-model-hub/models/aggregation/unique_users/)\n",
    "* [bach.DataFrame.sort_index](https://objectiv.io/docs/modeling/bach/api-reference/DataFrame/sort_index/)\n",
    "* [bach.DataFrame.head](https://objectiv.io/docs/modeling/bach/api-reference/DataFrame/head/)"
   ]
  },
  {
   "cell_type": "markdown",
   "id": "0c366433",
   "metadata": {},
   "source": [
    "## Mapping and filtering\n",
    "Here we'll use `map` operations from the open model hub to label certain users or events, in order to filter on them or combine them with other models later on.\n",
    "\n",
    "First, we'll label users as being a new user. As `time_aggregation` was set to '%Y-%m-%d' it means all hits are labeled as new for the entire day in which the user had its first session."
   ]
  },
  {
   "cell_type": "code",
   "execution_count": null,
   "id": "10436e1e",
   "metadata": {},
   "outputs": [],
   "source": [
    "# label new users & all their events on the defined time_aggregation \n",
    "df['is_new_user'] = modelhub.map.is_new_user(df)\n",
    "df.is_new_user.head(10)"
   ]
  },
  {
   "cell_type": "markdown",
   "id": "d46cba1e",
   "metadata": {},
   "source": [
    "We can also label conversion events. To do this, we first have to define what a conversion is, by setting the type of event and the location in the product where the event was triggered ([see more about the location stack here](https://objectiv.io/docs/modeling/example-notebooks/open-taxonomy/#location-stack-and-global-contexts)), using [`add_conversion_event`](https://objectiv.io/docs/modeling/open-model-hub/api-reference/ModelHub/add_conversion_event/)."
   ]
  },
  {
   "cell_type": "code",
   "execution_count": null,
   "id": "61d9bfeb",
   "metadata": {},
   "outputs": [],
   "source": [
    "# define a conversion event, and label events whether they converted\n",
    "modelhub.add_conversion_event(location_stack=df.location_stack.json[{'id': 'Quickstart Guide', '_type': 'LinkContext'}:],\n",
    "                              event_type='PressEvent',\n",
    "                              name='quickstart_presses')\n",
    "df['conversion_events'] = modelhub.map.is_conversion_event(df, 'quickstart_presses')\n",
    "df.conversion_events.head(10)"
   ]
  },
  {
   "cell_type": "markdown",
   "id": "80e05aa2",
   "metadata": {},
   "source": [
    "### Combine mapping with filtering and aggregation\n",
    "As the map functions above return a SeriesBoolean, they can be combined with filter and aggregation models. We use the same aggregation model we showed earlier ([`unique_users`](https://objectiv.io/docs/modeling/open-model-hub/models/aggregation/unique_users/)), but now applying the `df.conversion_events` filter to just look at unique converted users per day."
   ]
  },
  {
   "cell_type": "code",
   "execution_count": null,
   "id": "4493d730",
   "metadata": {},
   "outputs": [],
   "source": [
    "# filter unique users on whether they've converted\n",
    "modelhub.aggregate.unique_users(df[df.conversion_events]).sort_index(ascending=False).head(10)"
   ]
  },
  {
   "cell_type": "markdown",
   "id": "48dfaca9",
   "metadata": {},
   "source": [
    "Other aggregation models can be used similarly. In the example below, the average session duration is calculated just for new users."
   ]
  },
  {
   "cell_type": "code",
   "execution_count": null,
   "id": "65d52c00",
   "metadata": {},
   "outputs": [],
   "source": [
    "# calculate average session duration, filtered on new users\n",
    "duration_new_users = modelhub.aggregate.session_duration(df[df.is_new_user])\n",
    "duration_new_users.sort_index(ascending=False).head(10)"
   ]
  },
  {
   "cell_type": "markdown",
   "id": "822b577b",
   "metadata": {},
   "source": [
    "### Using multiple model hub filters"
   ]
  },
  {
   "cell_type": "markdown",
   "id": "57f59b2c",
   "metadata": {},
   "source": [
    "The model hub's `map` results can be combined and reused. Below we set the result of two helper functions as a column to the original DataFrame, and use them both to filter the data and apply an aggregation model. We calculate the number of users that were new in a month, and also the number of users that converted twice on a day."
   ]
  },
  {
   "cell_type": "code",
   "execution_count": null,
   "id": "5b7b1490",
   "metadata": {},
   "outputs": [],
   "source": [
    "# calculate new users & users that converted twice on a day\n",
    "df['is_new_user_month'] = modelhub.map.is_new_user(df, time_aggregation = '%Y-%m')\n",
    "df['is_twice_converted'] = modelhub.map.conversions_in_time(df, name='quickstart_presses')==2\n",
    "# use results in an aggregation model\n",
    "modelhub.aggregate.unique_users(df[df.is_new_user_month & df.is_twice_converted]).sort_index(ascending=False).head()"
   ]
  },
  {
   "cell_type": "markdown",
   "id": "9f7d8c79",
   "metadata": {},
   "source": [
    "### Reference\n",
    "* [modelhub.Map.is_new_user](https://objectiv.io/docs/modeling/open-model-hub/models/helper-functions/is_new_user/)\n",
    "* [bach.DataFrame.head](https://objectiv.io/docs/modeling/bach/api-reference/DataFrame/head/)\n",
    "* [modelhub.ModelHub.add_conversion_event](https://objectiv.io/docs/modeling/open-model-hub/api-reference/ModelHub/add_conversion_event/)\n",
    "* [modelhub.Map.is_conversion_event](https://objectiv.io/docs/modeling/open-model-hub/models/helper-functions/is_conversion_event/)\n",
    "* [modelhub.Aggregate.unique_users](https://objectiv.io/docs/modeling/open-model-hub/models/aggregation/unique_users/)\n",
    "* [modelhub.Aggregate.session_duration](https://objectiv.io/docs/modeling/open-model-hub/models/aggregation/session_duration/)\n",
    "* [modelhub.Map.conversions_in_time](https://objectiv.io/docs/modeling/open-model-hub/models/helper-functions/conversions_in_time/)\n",
    "* [bach.DataFrame.sort_index](https://objectiv.io/docs/modeling/bach/api-reference/DataFrame/sort_index/)"
   ]
  },
  {
   "cell_type": "markdown",
   "id": "7be6e13c",
   "metadata": {},
   "source": [
    "## Combine model results\n",
    "Results from aggregation models can be used together if they share the same index type - similar to pandas. Below the share of new users per day is calculated."
   ]
  },
  {
   "cell_type": "code",
   "execution_count": null,
   "id": "ac530557",
   "metadata": {},
   "outputs": [],
   "source": [
    "# We'll do a lot of operations on the data in the df DataFrame. To make this easier for the\n",
    "# BigQuery, we tell Bach to materialize the current DataFrame as temporary table.\n",
    "# This statement has no direct effect, but any invocation of head() on the DataFrame later\n",
    "# on will consist of two queries: one to create a temporary table with the current state of the\n",
    "# DataFrame, and one that queries that table and does subsequent operations.\n",
    "if is_bigquery(df.engine):\n",
    "    df = df.materialize(materialization='temp_table')"
   ]
  },
  {
   "cell_type": "code",
   "execution_count": null,
   "id": "ad6396fe",
   "metadata": {},
   "outputs": [],
   "source": [
    "# calculate the share of new users per day using results from two aggregation models\n",
    "new_user_share = modelhub.agg.unique_users(df[df.is_new_user]) / modelhub.agg.unique_users(df)\n",
    "new_user_share.sort_index(ascending=False).head(10)"
   ]
  },
  {
   "cell_type": "markdown",
   "id": "a840d15f",
   "metadata": {},
   "source": [
    "### Reference\n",
    "* [modelhub.Aggregate.unique_users](https://objectiv.io/docs/modeling/open-model-hub/models/aggregation/unique_users/)\n",
    "* [modelhub.Map.is_new_user](https://objectiv.io/docs/modeling/open-model-hub/models/helper-functions/is_new_user/)\n",
    "* [bach.DataFrame.sort_index](https://objectiv.io/docs/modeling/bach/api-reference/DataFrame/sort_index/)\n",
    "* [bach.DataFrame.head](https://objectiv.io/docs/modeling/bach/api-reference/DataFrame/head/)"
   ]
  },
  {
   "cell_type": "markdown",
   "id": "c7522e41",
   "metadata": {},
   "source": [
    "## Crunch data further with the Bach modeling library\n",
    "All results from the model hub are in the form of a Bach [DataFrame](https://objectiv.io/docs/modeling/bach/api-reference/DataFrame/) or [Series](https://objectiv.io/docs/modeling/bach/api-reference/Series/). This makes the open model hub and Bach work seamlessly together."
   ]
  },
  {
   "cell_type": "code",
   "execution_count": null,
   "id": "82a9e8ca",
   "metadata": {},
   "outputs": [],
   "source": [
    "# now label the number of times a user is converted in a session at a certain moment\n",
    "df['conversion_count'] = modelhub.map.conversions_in_time(df, name='quickstart_presses')\n",
    "\n",
    "# use Bach to do any supported operation using pandas syntax.\n",
    "# select users that converted\n",
    "converted_users = df[df.conversion_events].user_id.unique()\n",
    "# select PressEvents of users that converted\n",
    "df_selection = df[(df.event_type == 'PressEvent') &\n",
    "                  (df.user_id.isin(converted_users))]\n",
    "# calculate the number of PressEvents before conversion per session\n",
    "presses_per_session = df_selection[df_selection.conversion_count == 0].groupby('session_id').session_hit_number.count()\n",
    "presses_per_session_pdf = presses_per_session.to_pandas()"
   ]
  },
  {
   "cell_type": "markdown",
   "id": "15f2ab4d",
   "metadata": {},
   "source": [
    "Now let's see the results, at which point the underlying query is actually executed."
   ]
  },
  {
   "cell_type": "code",
   "execution_count": null,
   "id": "53d38855",
   "metadata": {},
   "outputs": [],
   "source": [
    "presses_per_session_pdf.head()"
   ]
  },
  {
   "cell_type": "markdown",
   "id": "5ddffdba",
   "metadata": {},
   "source": [
    "See the [Bach API reference](https://objectiv.io/docs/modeling/bach/api-reference/) for all available operations."
   ]
  },
  {
   "cell_type": "markdown",
   "id": "85f2f87f",
   "metadata": {},
   "source": [
    "### Reference\n",
    "* [bach.DataFrame.materialize](https://objectiv.io/docs/modeling/bach/api-reference/DataFrame/materialize/)\n",
    "* [modelhub.Map.conversions_in_time](https://objectiv.io/docs/modeling/open-model-hub/models/helper-functions/conversions_in_time/)\n",
    "* [bach.Series.unique](https://objectiv.io/docs/modeling/bach/api-reference/Series/unique/)\n",
    "* [bach.Series.isin](https://objectiv.io/docs/modeling/bach/api-reference/Series/isin/)\n",
    "* [bach.DataFrame.groupby](https://objectiv.io/docs/modeling/bach/api-reference/DataFrame/groupby/)\n",
    "* [bach.DataFrame.head](https://objectiv.io/docs/modeling/bach/api-reference/DataFrame/head/)"
   ]
  },
  {
   "cell_type": "markdown",
   "id": "089230c9",
   "metadata": {},
   "source": [
    "## Export results to a pandas DataFrame\n",
    "Bach DataFrames and/or model hub results can always be exported to pandas, so you can use all its options as well as pandas-compatible ML packages. Since Bach DataFrame operations run on the full dataset in the SQL data store, it is recommended to export to pandas if the data is small enough, i.e. by aggregation or selection."
   ]
  },
  {
   "cell_type": "markdown",
   "id": "f2e159b0",
   "metadata": {},
   "source": [
    "Below we plot the previously calculated presses per session before conversion, using pandas' built-in plotting methods."
   ]
  },
  {
   "cell_type": "code",
   "execution_count": null,
   "id": "c7e07fe5",
   "metadata": {},
   "outputs": [],
   "source": [
    "presses_per_session_pdf.hist()"
   ]
  },
  {
   "cell_type": "markdown",
   "id": "51706b30",
   "metadata": {},
   "source": [
    "### Reference\n",
    "* [bach.DataFrame.to_pandas](https://objectiv.io/docs/modeling/bach/api-reference/DataFrame/to_pandas/)"
   ]
  },
  {
   "cell_type": "markdown",
   "id": "297ef877",
   "metadata": {},
   "source": [
    "## Get the SQL for any analysis\n",
    "The SQL for any analysis can be exported with one command, so you can use models in production directly to simplify data debugging & delivery to BI tools like Metabase, dbt, etc. See how you can [quickly create BI dashboards with this](https://objectiv.io/docs/home/up#creating-bi-dashboards)."
   ]
  },
  {
   "cell_type": "code",
   "execution_count": null,
   "id": "5655bb43",
   "metadata": {
    "scrolled": true
   },
   "outputs": [],
   "source": [
    "# show SQL for analysis; this is just one example, and works for any Objectiv model/analysis\n",
    "# complex SQL statement alert!\n",
    "display_sql_as_markdown(new_user_share)"
   ]
  },
  {
   "cell_type": "markdown",
   "id": "c964f0a9",
   "metadata": {},
   "source": [
    "That's it! [Join us on Slack](https://objectiv.io/join-slack) if you have any questions or suggestions."
   ]
  },
  {
   "cell_type": "markdown",
   "id": "be82c6ec",
   "metadata": {},
   "source": [
    "# Next Steps\n",
    "\n",
    "### Use this notebook with your own data\n",
    "\n",
    "You can use the example notebooks on any dataset that was collected with Objectiv's tracker, so feel free to \n",
    "use them to bootstrap your own projects. They are available as Jupyter notebooks on our [GitHub repository](https://github.com/objectiv/objectiv-analytics/tree/main/notebooks). See [instructions to set up the Objectiv tracker](https://objectiv.io/docs/tracking/).\n",
    "\n",
    "### Check out related example notebooks\n",
    "\n",
    "* [Open taxonomy how-to](https://objectiv.io/docs/modeling/example-notebooks/open-taxonomy/) - see what you can do with the Bach modeling library and a dataset that is validated against the open analytics taxonomy.\n",
    "\n",
    "* [Explore your data](https://objectiv.io/docs/modeling/example-notebooks/explore-data/) - see how you can easily explore your data collected with Objectiv."
   ]
  }
 ],
 "metadata": {
  "kernelspec": {
   "display_name": "Python 3 (ipykernel)",
   "language": "python",
   "name": "python3"
  },
  "language_info": {
   "codemirror_mode": {
    "name": "ipython",
    "version": 3
   },
   "file_extension": ".py",
   "mimetype": "text/x-python",
   "name": "python",
   "nbconvert_exporter": "python",
   "pygments_lexer": "ipython3",
   "version": "3.9.4"
  }
 },
 "nbformat": 4,
 "nbformat_minor": 5
}
